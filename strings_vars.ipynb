{
 "cells": [
  {
   "cell_type": "markdown",
   "metadata": {},
   "source": [
    "# Strings and variables"
   ]
  },
  {
   "cell_type": "markdown",
   "metadata": {},
   "source": [
    "Strings are Python's way of storing bits of text.\n",
    "\n",
    "Variables have names, and it can be confusing when you are looking at a name,\n",
    "or a string.\n",
    "\n",
    "This notebook is to practice the distinction between the two."
   ]
  },
  {
   "cell_type": "code",
   "execution_count": null,
   "metadata": {},
   "outputs": [],
   "source": [
    "# Run this cell to set up the notebook, but please don't change it.\n",
    "# These lines load the tests.\n",
    "from client.api.notebook import Notebook\n",
    "ok = Notebook('strings_vars.ok')"
   ]
  },
  {
   "cell_type": "markdown",
   "metadata": {},
   "source": [
    "Who isn't a Marvel fan? (that's rhetorical - if you aren't, please, just grin\n",
    "and bear it)."
   ]
  },
  {
   "cell_type": "markdown",
   "metadata": {},
   "source": [
    "In the next cell, make a variable with name `title` that has the value\n",
    "`\"Captain \"`.  Notice that `\"Captain \"` is a string, and `title` is a variable\n",
    "name.  Notice too that the string has a space at the end."
   ]
  },
  {
   "cell_type": "code",
   "execution_count": null,
   "metadata": {},
   "outputs": [],
   "source": [
    "title = ...\n",
    "# Show the variable contents\n",
    "title"
   ]
  },
  {
   "cell_type": "code",
   "execution_count": null,
   "metadata": {},
   "outputs": [],
   "source": [
    "_ = ok.grade('q_captain')"
   ]
  },
  {
   "cell_type": "markdown",
   "metadata": {},
   "source": [
    "Now make another string with name `person`, and value `\"Marvel\"`."
   ]
  },
  {
   "cell_type": "code",
   "execution_count": null,
   "metadata": {},
   "outputs": [],
   "source": [
    "person = ...\n",
    "# Show the value\n",
    "person"
   ]
  },
  {
   "cell_type": "code",
   "execution_count": null,
   "metadata": {},
   "outputs": [],
   "source": [
    "_ = ok.grade('q_marvel')"
   ]
  },
  {
   "cell_type": "markdown",
   "metadata": {},
   "source": [
    "Now use `title` and `person` to make a new variable `character`, that has the\n",
    "value `\"Captain Marvel\"`:"
   ]
  },
  {
   "cell_type": "code",
   "execution_count": null,
   "metadata": {},
   "outputs": [],
   "source": [
    "character = ...\n",
    "# Display the result\n",
    "character"
   ]
  },
  {
   "cell_type": "code",
   "execution_count": null,
   "metadata": {},
   "outputs": [],
   "source": [
    "_ = ok.grade('q_capt_marvel')"
   ]
  },
  {
   "cell_type": "markdown",
   "metadata": {},
   "source": [
    "Here I'm trying to make a new variable `another_character` by appending the\n",
    "string `\"America\"` to the value of `title`, but there's a mistake.  Fix the\n",
    "mistake."
   ]
  },
  {
   "cell_type": "code",
   "execution_count": null,
   "metadata": {},
   "outputs": [],
   "source": [
    "another_character = title + America\n",
    "# Display the result\n",
    "another_character"
   ]
  },
  {
   "cell_type": "code",
   "execution_count": null,
   "metadata": {},
   "outputs": [],
   "source": [
    "_ = ok.grade('q_capt_america')"
   ]
  },
  {
   "cell_type": "markdown",
   "metadata": {},
   "source": [
    "Here I'm trying to make a new variable `third_character` by appending the\n",
    "string `\"Carter\"` to the string `\"Peggy \"`, to get the value `\"Peggy Carter\"`,\n",
    "but there are some mistakes.  Fix the mistakes."
   ]
  },
  {
   "cell_type": "code",
   "execution_count": null,
   "metadata": {},
   "outputs": [],
   "source": [
    "\"third_character\" = Peggy + Carter\n",
    "# Display the result\n",
    "third_character"
   ]
  },
  {
   "cell_type": "code",
   "execution_count": null,
   "metadata": {},
   "outputs": [],
   "source": [
    "_ = ok.grade('q_peggy_carter')"
   ]
  },
  {
   "cell_type": "markdown",
   "metadata": {},
   "source": [
    "In an alternative\n",
    "universe,\n",
    "our own Captain America has become General America.  Use string methods to\n",
    "substitute \"General\" for \"Captain\" in `another_character`:"
   ]
  },
  {
   "cell_type": "code",
   "execution_count": null,
   "metadata": {},
   "outputs": [],
   "source": [
    "#- Edit the line below to do the substitution.\n",
    "alternative_character = another_character...\n",
    "# Display the result\n",
    "alternative_character"
   ]
  },
  {
   "cell_type": "code",
   "execution_count": null,
   "metadata": {},
   "outputs": [],
   "source": [
    "_ = ok.grade('q_gen_america')"
   ]
  },
  {
   "cell_type": "markdown",
   "metadata": {},
   "source": [
    "## Liking people who like foreigners\n",
    "\n",
    "As everybody now knows, the word for someone who does not like foreigners is\n",
    "[xenophobe](https://en.wikipedia.org/wiki/Xenophobia). It comes from Greek,\n",
    "where \"xenos\" means a stranger or foreigner and \"phobos\" is fear.\n",
    "\n",
    "Similarly, if you like foreigners, you can be a\n",
    "[xenophile](https://en.wikipedia.org/wiki/Xenophilia), where \"philia\" in Greek\n",
    "means love or attraction.\n",
    "\n",
    "Or you could be afraid of people who are afraid of foreigners.  Then you would\n",
    "be a \"xenophobophobe\".  Or you could like people who like foreigners, and be a\n",
    "\"xenophilophile\".\n",
    "\n",
    "Because \"xenophobophobe\" is such a useful word, we will put it in its own\n",
    "variable:"
   ]
  },
  {
   "cell_type": "code",
   "execution_count": null,
   "metadata": {},
   "outputs": [],
   "source": [
    "fears_who_fears = \"xenophobophobe\""
   ]
  },
  {
   "cell_type": "markdown",
   "metadata": {},
   "source": [
    "Use your `replace` skills to turn \"xenophobophobe\" to \"xenophilophile\".  For\n",
    "this question, and the ones below, try and find the smallest bit of text that\n",
    "you can replace."
   ]
  },
  {
   "cell_type": "code",
   "execution_count": null,
   "metadata": {},
   "outputs": [],
   "source": [
    "likes_who_likes = fears_who_fears...\n",
    "likes_who_likes"
   ]
  },
  {
   "cell_type": "markdown",
   "metadata": {},
   "source": [
    "But you might have a darker side.  Perhaps you like people who dislike\n",
    "foreigners.  That would be a \"xenophobophile\".   Make that word, using\n",
    "`replace`."
   ]
  },
  {
   "cell_type": "code",
   "execution_count": null,
   "metadata": {},
   "outputs": [],
   "source": [
    "likes_who_dislikes = fears_who_fears....\n",
    "likes_who_dislikes"
   ]
  },
  {
   "cell_type": "markdown",
   "metadata": {},
   "source": [
    "Use replace on `likes_who_dislikes` above to get \"xenophilophobe\" - someone who\n",
    "is afraid of people who like strangers."
   ]
  },
  {
   "cell_type": "code",
   "execution_count": null,
   "metadata": {},
   "outputs": [],
   "source": [
    "dislikes_who_likes = likes_who_dislikes...\n",
    "dislikes_who_likes"
   ]
  },
  {
   "cell_type": "markdown",
   "metadata": {},
   "source": [
    "## Last check"
   ]
  },
  {
   "cell_type": "code",
   "execution_count": null,
   "metadata": {},
   "outputs": [],
   "source": [
    "# For your convenience, you can run this cell to run all the tests at once.\n",
    "import os\n",
    "_ = [ok.grade(q[:-3]) for q in os.listdir(\"tests\") if q.startswith('q')]"
   ]
  }
 ],
 "metadata": {
  "jupytext": {
   "split_at_heading": true,
   "text_representation": {
    "extension": ".Rmd",
    "format_name": "rmarkdown",
    "format_version": "1.1",
    "jupytext_version": "1.2.4"
   }
  },
  "kernelspec": {
   "display_name": "Python 3",
   "language": "python",
   "name": "python3"
  },
  "language_info": {
   "codemirror_mode": {
    "name": "ipython",
    "version": 3
   },
   "file_extension": ".py",
   "mimetype": "text/x-python",
   "name": "python",
   "nbconvert_exporter": "python",
   "pygments_lexer": "ipython3",
   "version": "3.7.9"
  }
 },
 "nbformat": 4,
 "nbformat_minor": 4
}
